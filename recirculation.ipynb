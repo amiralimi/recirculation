{
 "cells": [
  {
   "cell_type": "code",
   "execution_count": 1,
   "outputs": [],
   "source": [
    "from typing import Union\n",
    "import numpy as np\n",
    "import matplotlib.pyplot as plt"
   ],
   "metadata": {
    "collapsed": false,
    "pycharm": {
     "name": "#%%\n"
    }
   }
  },
  {
   "cell_type": "code",
   "execution_count": 2,
   "outputs": [],
   "source": [
    "def logistic(x):\n",
    "    return 1 / (1 + np.exp(-x))"
   ],
   "metadata": {
    "collapsed": false,
    "pycharm": {
     "name": "#%%\n"
    }
   }
  },
  {
   "cell_type": "code",
   "execution_count": 3,
   "outputs": [],
   "source": [
    "def uniform_initializer(low, high, shape):\n",
    "    return np.random.uniform(low, high, shape)"
   ],
   "metadata": {
    "collapsed": false,
    "pycharm": {
     "name": "#%%\n"
    }
   }
  },
  {
   "cell_type": "code",
   "execution_count": 4,
   "outputs": [],
   "source": [
    "def squared_reconstruction_error(y1, y2):\n",
    "    return 1 / 2 * np.sum((y1 - y2) ** 2)"
   ],
   "metadata": {
    "collapsed": false,
    "pycharm": {
     "name": "#%%\n"
    }
   }
  },
  {
   "cell_type": "code",
   "execution_count": 5,
   "outputs": [],
   "source": [
    "def add_bias(x):\n",
    "    shape = list(x.shape)\n",
    "    shape[-1] = 1\n",
    "    bias = np.ones(shape)\n",
    "    return np.hstack((x, bias))\n"
   ],
   "metadata": {
    "collapsed": false,
    "pycharm": {
     "name": "#%%\n"
    }
   }
  },
  {
   "cell_type": "code",
   "execution_count": 6,
   "outputs": [],
   "source": [
    "class Recirculation:\n",
    "    ACTIVATIONS = {\n",
    "        'logistic': logistic\n",
    "    }\n",
    "\n",
    "    INITIALIZERS = {\n",
    "        'uniform': uniform_initializer\n",
    "    }\n",
    "\n",
    "    def __init__(self, input_len: int, hidden_units: Union[int, list], regression_rate: float, learning_rate: float,\n",
    "                 activation_function: str, weight_initializer: str, low_weight_range: float = -0.5,\n",
    "                 high_weight_range: float = 0.5):\n",
    "        if type(hidden_units) is int:\n",
    "            hidden_units = [hidden_units]\n",
    "\n",
    "        self.activation_function = self.ACTIVATIONS[activation_function]\n",
    "        self.weight_initializer = self.INITIALIZERS[weight_initializer]\n",
    "        self.regression_rate = regression_rate\n",
    "        self.learning_rate = learning_rate\n",
    "\n",
    "        self.layer_shapes = [input_len] * 2\n",
    "        for unit in hidden_units:\n",
    "            self.layer_shapes.insert(-1, unit)\n",
    "\n",
    "        self.layer_count = len(self.layer_shapes)\n",
    "\n",
    "        self.weights = []\n",
    "        for i in range(self.layer_count - 1):\n",
    "            self.weights.append(\n",
    "                self.weight_initializer(\n",
    "                    low_weight_range, high_weight_range,\n",
    "                    # adding one to the first shape is because of the bias\n",
    "                    (self.layer_shapes[i] + 1, self.layer_shapes[i + 1])\n",
    "                )\n",
    "            )\n",
    "\n",
    "    def fit(self, x: np.ndarray, epoch: int = 100) -> dict:\n",
    "        history = {\n",
    "            'error': [],\n",
    "        }\n",
    "\n",
    "        for _ in range(epoch):\n",
    "            layer_outputs = [x]\n",
    "            # first pass\n",
    "            # calculate hidden layer outputs (based on equation 1, 2)\n",
    "            for i in range(self.layer_count - 2):\n",
    "                layer_outputs.append(\n",
    "                    self.activation_function(\n",
    "                        add_bias(layer_outputs[-1]) @ self.weights[i]\n",
    "                    )\n",
    "                )\n",
    "            # calculate output with regression (based on equation 5)\n",
    "            layer_outputs.append(\n",
    "                self.regression_rate * layer_outputs[0] + (1 - self.regression_rate) *\n",
    "                self.activation_function(\n",
    "                    add_bias(layer_outputs[-1]) @ self.weights[-1]\n",
    "                )\n",
    "            )\n",
    "            # note: the above statement can be inside the for loop below but this is more readable\n",
    "\n",
    "            # second pass\n",
    "            # calculate hidden layer outputs (based on equation 6)\n",
    "            for i in range(1, self.layer_count - 1):\n",
    "                layer_outputs.append(\n",
    "                    self.regression_rate * layer_outputs[i] + (1 - self.regression_rate) *\n",
    "                    self.activation_function(\n",
    "                        add_bias(layer_outputs[-1]) @ self.weights[i - 1]\n",
    "                    )\n",
    "                )\n",
    "\n",
    "            # compute reconstruction error\n",
    "            error = squared_reconstruction_error(layer_outputs[0], layer_outputs[self.layer_count - 1])\n",
    "\n",
    "            # updating weights (based on equations 3, 4)\n",
    "            for i in range(self.layer_count - 1):\n",
    "                delta_w = self.learning_rate * add_bias(layer_outputs[i + 1]).T @ (\n",
    "                        layer_outputs[i] - layer_outputs[i + 2])\n",
    "                self.weights[len(self.weights) - 1 - i] += delta_w\n",
    "\n",
    "            # update history\n",
    "            history['error'].append(error)\n",
    "\n",
    "        return history\n",
    "\n",
    "    def predict(self, x: np.ndarray) -> np.ndarray:\n",
    "        layer_output = [x]\n",
    "        for i in range(self.layer_count - 1):\n",
    "            layer_output.append(\n",
    "                self.activation_function(\n",
    "                    add_bias(layer_output[-1]) @ self.weights[i]\n",
    "                )\n",
    "            )\n",
    "        return layer_output[-1]\n",
    "\n",
    "    def predict_class(self, x: np.ndarray) -> np.ndarray:\n",
    "        pred = self.predict(x)\n",
    "        classes = np.zeros_like(pred)\n",
    "        classes[np.arange(len(classes)), pred.argmax(axis=1)] = 1\n",
    "        return classes\n"
   ],
   "metadata": {
    "collapsed": false,
    "pycharm": {
     "name": "#%%\n"
    }
   }
  },
  {
   "cell_type": "code",
   "execution_count": 7,
   "outputs": [],
   "source": [
    "x = np.array([\n",
    "    [1, 0, 0, 0],\n",
    "    [0, 1, 0, 0],\n",
    "    [0, 0, 1, 0],\n",
    "    [0, 0, 0, 1],\n",
    "])"
   ],
   "metadata": {
    "collapsed": false,
    "pycharm": {
     "name": "#%%\n"
    }
   }
  },
  {
   "cell_type": "code",
   "execution_count": 8,
   "outputs": [],
   "source": [
    "parameters = {\n",
    "    'input_len': 4,\n",
    "    'hidden_units': 2,\n",
    "    'regression_rate': 0.75,\n",
    "    'learning_rate': 1,\n",
    "    'activation_function': 'logistic',\n",
    "    'weight_initializer': 'uniform',\n",
    "    'low_weight_range': -0.5,\n",
    "    'high_weight_range': 0.5,\n",
    "}"
   ],
   "metadata": {
    "collapsed": false,
    "pycharm": {
     "name": "#%%\n"
    }
   }
  },
  {
   "cell_type": "code",
   "execution_count": 9,
   "outputs": [],
   "source": [
    "r = Recirculation(**parameters)"
   ],
   "metadata": {
    "collapsed": false,
    "pycharm": {
     "name": "#%%\n"
    }
   }
  },
  {
   "cell_type": "code",
   "execution_count": 10,
   "outputs": [],
   "source": [
    "history = r.fit(x)"
   ],
   "metadata": {
    "collapsed": false,
    "pycharm": {
     "name": "#%%\n"
    }
   }
  },
  {
   "cell_type": "code",
   "execution_count": 11,
   "outputs": [
    {
     "data": {
      "text/plain": "[<matplotlib.lines.Line2D at 0x120058d00>]"
     },
     "execution_count": 11,
     "metadata": {},
     "output_type": "execute_result"
    },
    {
     "data": {
      "text/plain": "<Figure size 640x480 with 1 Axes>",
      "image/png": "[encoded data removed]"
     },
     "metadata": {},
     "output_type": "display_data"
    }
   ],
   "source": [
    "plt.plot(np.arange(100), np.array(history['error']))"
   ],
   "metadata": {
    "collapsed": false,
    "pycharm": {
     "name": "#%%\n"
    }
   }
  },
  {
   "cell_type": "code",
   "execution_count": 12,
   "outputs": [
    {
     "data": {
      "text/plain": "array([[1., 0., 0., 0.],\n       [0., 1., 0., 0.],\n       [0., 0., 1., 0.],\n       [0., 0., 0., 1.]])"
     },
     "execution_count": 12,
     "metadata": {},
     "output_type": "execute_result"
    }
   ],
   "source": [
    "r.predict_class(x)"
   ],
   "metadata": {
    "collapsed": false,
    "pycharm": {
     "name": "#%%\n"
    }
   }
  },
  {
   "cell_type": "code",
   "execution_count": 13,
   "outputs": [
    {
     "data": {
      "text/plain": "array([[0.27853198, 0.25485571, 0.20305892, 0.20569306],\n       [0.267641  , 0.29356115, 0.14942627, 0.26621219],\n       [0.252858  , 0.19372109, 0.42090434, 0.18394815],\n       [0.24174352, 0.30526303, 0.16107745, 0.33842269]])"
     },
     "execution_count": 13,
     "metadata": {},
     "output_type": "execute_result"
    }
   ],
   "source": [
    "r.predict(x)"
   ],
   "metadata": {
    "collapsed": false,
    "pycharm": {
     "name": "#%%\n"
    }
   }
  },
  {
   "cell_type": "code",
   "execution_count": 13,
   "outputs": [],
   "source": [],
   "metadata": {
    "collapsed": false,
    "pycharm": {
     "name": "#%%\n"
    }
   }
  }
 ],
 "metadata": {
  "kernelspec": {
   "display_name": "Python 3",
   "language": "python",
   "name": "python3"
  },
  "language_info": {
   "codemirror_mode": {
    "name": "ipython",
    "version": 2
   },
   "file_extension": ".py",
   "mimetype": "text/x-python",
   "name": "python",
   "nbconvert_exporter": "python",
   "pygments_lexer": "ipython2",
   "version": "2.7.6"
  }
 },
 "nbformat": 4,
 "nbformat_minor": 0
}