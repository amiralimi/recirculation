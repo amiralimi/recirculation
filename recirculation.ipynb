{
 "cells": [
  {
   "cell_type": "markdown",
   "source": [
    "# Learning Representations by Recirculation"
   ],
   "metadata": {
    "collapsed": false,
    "pycharm": {
     "name": "#%% md\n"
    }
   }
  },
  {
   "cell_type": "code",
   "execution_count": 1,
   "metadata": {
    "pycharm": {
     "name": "#%%\n"
    }
   },
   "outputs": [],
   "source": [
    "from typing import Union\n",
    "import numpy as np\n",
    "import matplotlib.pyplot as plt\n",
    "import seaborn as sns\n",
    "import tensorflow as tf\n",
    "from tensorflow import keras\n",
    "from keras import layers\n",
    "from keras import optimizers"
   ]
  },
  {
   "cell_type": "code",
   "execution_count": 2,
   "metadata": {
    "pycharm": {
     "name": "#%%\n"
    }
   },
   "outputs": [],
   "source": [
    "np.random.seed(0)\n",
    "tf.random.set_seed(0)"
   ]
  },
  {
   "cell_type": "markdown",
   "source": [
    "## Recirculation Implementation"
   ],
   "metadata": {
    "collapsed": false,
    "pycharm": {
     "name": "#%% md\n"
    }
   }
  },
  {
   "cell_type": "markdown",
   "source": [
    "### Activation Functions\n",
    "In the paper the only activation function described is the logistic function. They said that other smooth monotonic functions will work too. Here I implemented the logistic function, and also other smooth monotonic functions.\n",
    "* Logistic:\n",
    "$$\n",
    "    f(x) = \\frac{1}{1 + e^{-x}}\n",
    "$$\n",
    "* Linear:$$ f(x) = x $$\n",
    "* Tanh:\n",
    "$$\n",
    "    f(x) = \\frac{e^{2x} - 1}{e^{2x} + 1}\n",
    "$$\n",
    "* Rectified Linear Unit (ReLU): $$ f(x) = x^+ = max(0, x) $$\n",
    "* Leaky Rectified Linear Unit (Leak ReLU):\n",
    "$$\n",
    "f(x)=\n",
    "    \\begin{cases}\n",
    "    x  &\\quad \\text{if } x>0\\\\\n",
    "    ax & \\quad \\text{if } x<0\n",
    "    \\end{cases}\n",
    "$$"
   ],
   "metadata": {
    "collapsed": false,
    "pycharm": {
     "name": "#%% md\n"
    }
   }
  },
  {
   "cell_type": "code",
   "execution_count": 3,
   "metadata": {
    "pycharm": {
     "name": "#%%\n"
    }
   },
   "outputs": [],
   "source": [
    "def logistic(x: np.ndarray):\n",
    "    return 1 / (1 + np.exp(-x))\n",
    "\n",
    "\n",
    "def linear(x: np.ndarray):\n",
    "    return x\n",
    "\n",
    "\n",
    "def tanh(x: np.ndarray):\n",
    "    return (np.exp(2 * x) - 1) / (np.exp(2 * x) + 1)\n",
    "\n",
    "\n",
    "def relu(x: np.ndarray):\n",
    "    return np.maximum(x, 0)\n",
    "\n",
    "\n",
    "def leaky_relu(x: np.ndarray, a: float = 0.01):\n",
    "    return np.where(x > 0, x, x * a)\n"
   ]
  },
  {
   "cell_type": "markdown",
   "source": [
    "### Weight Initializers\n",
    "In the paper, the weights are selected using a uniform distribution between $-0.5$ and $0.5$."
   ],
   "metadata": {
    "collapsed": false,
    "pycharm": {
     "name": "#%% md\n"
    }
   }
  },
  {
   "cell_type": "code",
   "execution_count": 4,
   "metadata": {
    "pycharm": {
     "name": "#%%\n"
    }
   },
   "outputs": [],
   "source": [
    "def uniform_initializer(low, high, shape):\n",
    "    return np.random.uniform(low, high, shape)"
   ]
  },
  {
   "cell_type": "markdown",
   "source": [
    "### Error Metrics\n",
    "Metric used in the paper is squared reconstruction error.\n",
    "$$ E = \\frac{1}{2}\\sum_{\\substack{k}}[y_k(2)-y_k(0)]^2 $$"
   ],
   "metadata": {
    "collapsed": false,
    "pycharm": {
     "name": "#%% md\n"
    }
   }
  },
  {
   "cell_type": "code",
   "execution_count": 5,
   "metadata": {
    "pycharm": {
     "name": "#%%\n"
    }
   },
   "outputs": [],
   "source": [
    "def squared_reconstruction_error(y1, y2):\n",
    "    return 1 / 2 * np.sum((y1 - y2) ** 2)"
   ]
  },
  {
   "cell_type": "markdown",
   "source": [
    "### Util Functions\n",
    "In the paper, each unit has a threshold term which is eliminated by adding an extra input to the unit with its activity fixed at 1. The `add_bias` function does that."
   ],
   "metadata": {
    "collapsed": false,
    "pycharm": {
     "name": "#%% md\n"
    }
   }
  },
  {
   "cell_type": "code",
   "execution_count": 6,
   "metadata": {
    "pycharm": {
     "name": "#%%\n"
    }
   },
   "outputs": [],
   "source": [
    "def add_bias(x):\n",
    "    shape = list(x.shape)\n",
    "    shape[-1] = 1\n",
    "    bias = np.ones(shape)\n",
    "    return np.hstack((x, bias))"
   ]
  },
  {
   "cell_type": "markdown",
   "source": [
    "## Recirculation Algorithm\n",
    "Here I implemented the Recirculation algorithm in the `Recirculation` class.\n",
    "\n",
    "Now I will give a brief description on the algorithm.\n",
    "\n",
    "Recirculation uses a Neural Network; however, there are some differences between recirculation and a simple Neural Network. Recirculation is used for encoding it's input and learn codes in the hidden unit. It's output should be the same as the input, however this isn't a must in a simple neural network. The other difference between Recirculation and a simple NN is that Recirculation doesn't use the backpropagation.\n",
    "\n",
    "**Learning process in Recirculation**\n",
    "\n",
    "The forward pass in Recirculation consists of 2 phases: first and second pass. The first pass is similar to the forward pass in a NN. Each layers input is $x_j$ and its output is $y_j$:\n",
    "$$ x_j = \\sum_{\\substack{i}}y_i w_{ji} - \\theta_j $$\n",
    "$$ y_j = \\sigma(x_j) $$\n",
    "where $x_j$ is the input of the unit, $y_i$ is output of previous unit, $w_{ji}$ is the weight connecting previous unit to this one, $\\theta_j$ is the bias (as said, this bias is removed by adding an extra input to the unit), and $\\sigma$ is the units' activation function.\n",
    "\n",
    "In the second pass, an average between the original input and the reconstructed output is sent through the network. This is computed by calculating a weighted average between the 2 values.\n",
    "$$ y_i(2) = \\lambda y_i(0) + (1 - \\lambda) x_i(2) $$\n",
    "This images shows these passes.\n",
    "\n",
    "![image](images/recirculation_passes.png)\n",
    "\n",
    "After this the weights are updated. The difference between the initial input and the input in the second pass are the derivatives that are used to update the weights. Here is how it is computed.\n",
    "$$ \\Delta w_{ij} = \\epsilon y_j(1)[y_i(0)-y_i(2)] $$\n",
    "$$ \\Delta w_{ji} = \\epsilon y_i(2)[y_j(1)-y_j(3)] $$\n",
    "Where the first one is for the weight connecting the hidden units to the output units and the second one is for the weights connecting the input unit to the hidden units.\n"
   ],
   "metadata": {
    "collapsed": false,
    "pycharm": {
     "name": "#%% md\n"
    }
   }
  },
  {
   "cell_type": "code",
   "execution_count": 7,
   "metadata": {
    "pycharm": {
     "name": "#%%\n"
    }
   },
   "outputs": [],
   "source": [
    "class Recirculation:\n",
    "    ACTIVATIONS = {\n",
    "        'logistic': logistic,\n",
    "        'linear': linear,\n",
    "        'tanh': tanh,\n",
    "        'relu': relu,\n",
    "        'leaky_relu': leaky_relu,\n",
    "    }\n",
    "\n",
    "    INITIALIZERS = {\n",
    "        'uniform': uniform_initializer,\n",
    "    }\n",
    "\n",
    "    def __init__(self, input_len: int, hidden_units: Union[int, list], regression_rate: float, learning_rate: float,\n",
    "                 activation_function: str, weight_initializer: str, low_weight_range: float = -0.5,\n",
    "                 high_weight_range: float = 0.5):\n",
    "        if type(hidden_units) is int:\n",
    "            hidden_units = [hidden_units]\n",
    "\n",
    "        self.activation_function = self.ACTIVATIONS[activation_function]\n",
    "        self.weight_initializer = self.INITIALIZERS[weight_initializer]\n",
    "        self.regression_rate = regression_rate\n",
    "        self.learning_rate = learning_rate\n",
    "\n",
    "        self.layer_shapes = [input_len] * 2\n",
    "        for unit in hidden_units:\n",
    "            self.layer_shapes.insert(-1, unit)\n",
    "\n",
    "        self.layer_count = len(self.layer_shapes)\n",
    "\n",
    "        self.weights = []\n",
    "        for i in range(self.layer_count - 1):\n",
    "            self.weights.append(\n",
    "                self.weight_initializer(\n",
    "                    low_weight_range, high_weight_range,\n",
    "                    # adding one to the first shape is because of the bias\n",
    "                    (self.layer_shapes[i] + 1, self.layer_shapes[i + 1])\n",
    "                )\n",
    "            )\n",
    "\n",
    "    def fit(self, x: np.ndarray, epoch: int = 100, loging: str = 'low') -> dict:\n",
    "        if loging not in ['low', 'high']:\n",
    "            raise ValueError('Incorrect loging value. It can be either low or high.')\n",
    "\n",
    "        history = {\n",
    "            'error': [],\n",
    "        }\n",
    "        if loging == 'high':\n",
    "            history['weights'] = [[np.copy(x) for x in self.weights]]\n",
    "            history['prediction_history'] = [self.predict(x)]\n",
    "            history['predicted_classes_history'] = [self.predict_class(x)]\n",
    "\n",
    "        for _ in range(epoch):\n",
    "            layer_outputs = [x]\n",
    "            # first pass\n",
    "            # calculate hidden layer outputs (based on equation 1, 2)\n",
    "            for i in range(self.layer_count - 2):\n",
    "                layer_outputs.append(\n",
    "                    self.activation_function(\n",
    "                        add_bias(layer_outputs[-1]) @ self.weights[i]\n",
    "                    )\n",
    "                )\n",
    "            # calculate output with regression (based on equation 5)\n",
    "            layer_outputs.append(\n",
    "                self.regression_rate * layer_outputs[0] + (1 - self.regression_rate) *\n",
    "                self.activation_function(\n",
    "                    add_bias(layer_outputs[-1]) @ self.weights[-1]\n",
    "                )\n",
    "            )\n",
    "            # note: the above statement can be inside the for loop below but this is more readable\n",
    "\n",
    "            # second pass\n",
    "            # calculate hidden layer outputs (based on equation 6)\n",
    "            for i in range(1, self.layer_count - 1):\n",
    "                layer_outputs.append(\n",
    "                    self.regression_rate * layer_outputs[i] + (1 - self.regression_rate) *\n",
    "                    self.activation_function(\n",
    "                        add_bias(layer_outputs[-1]) @ self.weights[i - 1]\n",
    "                    )\n",
    "                )\n",
    "\n",
    "            # compute reconstruction error\n",
    "            error = squared_reconstruction_error(layer_outputs[0], layer_outputs[self.layer_count - 1])\n",
    "\n",
    "            # updating weights (based on equations 3, 4)\n",
    "            for i in range(self.layer_count - 1):\n",
    "                delta_w = self.learning_rate * add_bias(layer_outputs[i + 1]).T @ (\n",
    "                        layer_outputs[i] - layer_outputs[i + 2])\n",
    "                self.weights[len(self.weights) - 1 - i] += delta_w\n",
    "\n",
    "            # update history\n",
    "            history['error'].append(error)\n",
    "            if loging == 'high':\n",
    "                history['weights'].append([np.copy(x) for x in self.weights])\n",
    "                history['prediction_history'].append(self.predict(x))\n",
    "                history['predicted_classes_history'].append(self.predict_class(x))\n",
    "\n",
    "        return history\n",
    "\n",
    "    def predict(self, x: np.ndarray) -> np.ndarray:\n",
    "        layer_output = [x]\n",
    "        for i in range(self.layer_count - 1):\n",
    "            layer_output.append(\n",
    "                self.activation_function(\n",
    "                    add_bias(layer_output[-1]) @ self.weights[i]\n",
    "                )\n",
    "            )\n",
    "        return layer_output[-1]\n",
    "\n",
    "    def predict_class(self, x: np.ndarray) -> np.ndarray:\n",
    "        pred = self.predict(x)\n",
    "        classes = np.zeros_like(pred)\n",
    "        classes[np.arange(len(classes)), pred.argmax(axis=1)] = 1\n",
    "        return classes\n",
    "\n",
    "    def encode(self, x):\n",
    "        layer_output = [x]\n",
    "        for i in range(self.layer_count - 2):\n",
    "            layer_output.append(\n",
    "                self.activation_function(\n",
    "                    add_bias(layer_output[-1]) @ self.weights[i]\n",
    "                )\n",
    "            )\n",
    "        return layer_output[-1]\n"
   ]
  },
  {
   "cell_type": "markdown",
   "source": [
    "## Testing"
   ],
   "metadata": {
    "collapsed": false,
    "pycharm": {
     "name": "#%% md\n"
    }
   }
  },
  {
   "cell_type": "markdown",
   "source": [
    "### Parameters\n",
    "Here the parameters are set as they are described in the paper. Our input is a $4*4$ matrix so input length is 4. $\\epsilon$(learning rate) is set to 20 and $\\lambda$(regression rate) is set to 0.75. We have one hidden layer with 2 units. Weights are selected from a uniform distribution between $-0.5, 0.5$. Activation function is the logistic function.\n",
    "\n",
    "This is the structure of the network (The bias unis are not shown here).\n",
    "\n",
    "![image](images/nn_structure.png)"
   ],
   "metadata": {
    "collapsed": false,
    "pycharm": {
     "name": "#%% md\n"
    }
   }
  },
  {
   "cell_type": "code",
   "execution_count": 8,
   "metadata": {
    "pycharm": {
     "name": "#%%\n"
    }
   },
   "outputs": [],
   "source": [
    "parameters = {\n",
    "    'input_len': 4,\n",
    "    'hidden_units': 2,\n",
    "    'regression_rate': 0.75,\n",
    "    'learning_rate': 20,\n",
    "    'activation_function': 'logistic',\n",
    "    'weight_initializer': 'uniform',\n",
    "    'low_weight_range': -0.5,\n",
    "    'high_weight_range': 0.5,\n",
    "}"
   ]
  },
  {
   "cell_type": "code",
   "execution_count": 9,
   "metadata": {
    "pycharm": {
     "name": "#%%\n"
    }
   },
   "outputs": [],
   "source": [
    "r = Recirculation(**parameters)"
   ]
  },
  {
   "cell_type": "code",
   "execution_count": 10,
   "outputs": [],
   "source": [
    "x = np.array([\n",
    "    [1, 0, 0, 0],\n",
    "    [0, 1, 0, 0],\n",
    "    [0, 0, 1, 0],\n",
    "    [0, 0, 0, 1],\n",
    "])"
   ],
   "metadata": {
    "collapsed": false,
    "pycharm": {
     "name": "#%%\n"
    }
   }
  },
  {
   "cell_type": "code",
   "execution_count": 11,
   "metadata": {
    "pycharm": {
     "name": "#%%\n"
    }
   },
   "outputs": [],
   "source": [
    "history = r.fit(x, loging='high')"
   ]
  },
  {
   "cell_type": "markdown",
   "source": [
    "Plotting the error history to see the model's performance."
   ],
   "metadata": {
    "collapsed": false,
    "pycharm": {
     "name": "#%% md\n"
    }
   }
  },
  {
   "cell_type": "code",
   "execution_count": 12,
   "metadata": {
    "pycharm": {
     "name": "#%%\n"
    }
   },
   "outputs": [
    {
     "data": {
      "text/plain": "[<matplotlib.lines.Line2D at 0x15e7f9640>]"
     },
     "execution_count": 12,
     "metadata": {},
     "output_type": "execute_result"
    },
    {
     "data": {
      "text/plain": "<Figure size 640x480 with 1 Axes>",
      "image/png": "[encoded data removed]"
     },
     "metadata": {},
     "output_type": "display_data"
    }
   ],
   "source": [
    "plt.plot(np.arange(100), np.array(history['error']))"
   ]
  },
  {
   "cell_type": "markdown",
   "source": [
    "### Predictions"
   ],
   "metadata": {
    "collapsed": false,
    "pycharm": {
     "name": "#%% md\n"
    }
   }
  },
  {
   "cell_type": "markdown",
   "metadata": {
    "pycharm": {
     "name": "#%% md\n"
    }
   },
   "source": [
    "Each row is the output relating to the same row in x defined above. As it is seen, the output is very close to the input. The cell that should be 1 is bigger than 0.98 and the cells that should be 0 are smaller than 1e-2."
   ]
  },
  {
   "cell_type": "code",
   "execution_count": 13,
   "metadata": {
    "pycharm": {
     "name": "#%%\n"
    }
   },
   "outputs": [
    {
     "data": {
      "text/plain": "array([[9.80088607e-01, 3.00000946e-03, 4.18966443e-07, 7.34606783e-03],\n       [1.43139650e-02, 9.93833971e-01, 5.64062353e-03, 3.96321582e-07],\n       [2.72210982e-06, 4.25881148e-03, 9.88556782e-01, 2.05122932e-03],\n       [1.23488574e-02, 2.58344699e-08, 4.39139643e-03, 9.90389260e-01]])"
     },
     "execution_count": 13,
     "metadata": {},
     "output_type": "execute_result"
    }
   ],
   "source": [
    "r.predict(x)"
   ]
  },
  {
   "cell_type": "markdown",
   "source": [
    "This function turns the biggest element to 1 and the others to 0. We can see it is the same as the input."
   ],
   "metadata": {
    "collapsed": false,
    "pycharm": {
     "name": "#%% md\n"
    }
   }
  },
  {
   "cell_type": "code",
   "execution_count": 14,
   "outputs": [
    {
     "data": {
      "text/plain": "array([[1., 0., 0., 0.],\n       [0., 1., 0., 0.],\n       [0., 0., 1., 0.],\n       [0., 0., 0., 1.]])"
     },
     "execution_count": 14,
     "metadata": {},
     "output_type": "execute_result"
    }
   ],
   "source": [
    "r.predict_class(x)"
   ],
   "metadata": {
    "collapsed": false,
    "pycharm": {
     "name": "#%%\n"
    }
   }
  },
  {
   "cell_type": "markdown",
   "source": [
    "This function returns the output of the final hidden layer, so we can see the representations for each input."
   ],
   "metadata": {
    "collapsed": false,
    "pycharm": {
     "name": "#%% md\n"
    }
   }
  },
  {
   "cell_type": "code",
   "execution_count": 15,
   "metadata": {
    "pycharm": {
     "name": "#%%\n"
    }
   },
   "outputs": [
    {
     "data": {
      "text/plain": "array([[0.9410874 , 0.87564743],\n       [0.90996569, 0.06073768],\n       [0.05522127, 0.09080284],\n       [0.06059903, 0.96532985]])"
     },
     "execution_count": 15,
     "metadata": {},
     "output_type": "execute_result"
    }
   ],
   "source": [
    "r.encode(x)"
   ]
  },
  {
   "cell_type": "markdown",
   "metadata": {
    "pycharm": {
     "name": "#%% md\n"
    }
   },
   "source": [
    "Let's do the test for 100 times to see average number of weight updates to get an error bellow 0.05. The paper tested the average for the error bellow 0.1 but looking at the error graph above, we see that the model achieves 0.1 error in the first few epochs but because of the high regression rate, it's not stable. However, it is more stable around 0.05 error."
   ]
  },
  {
   "cell_type": "code",
   "execution_count": 16,
   "metadata": {
    "pycharm": {
     "name": "#%%\n"
    }
   },
   "outputs": [
    {
     "name": "stdout",
     "output_type": "stream",
     "text": [
      "21.6\n"
     ]
    }
   ],
   "source": [
    "indexes = []\n",
    "for _ in range(100):\n",
    "    temp = Recirculation(**parameters)\n",
    "    temp_hist = temp.fit(x)\n",
    "    error_array = np.array(temp_hist['error'])\n",
    "    indexes.append(np.argmax(error_array < 0.05))\n",
    "print(np.average(indexes))"
   ]
  },
  {
   "cell_type": "markdown",
   "source": [
    "### Comparing Recirculation and Backpropagation\n",
    "\n",
    "In the paper, it says that the initial weights should be symmetrical for the algorithm to work. However, we didn't use symmetrical initial weights, and we just picked them from a uniform distribution. So, to see how this is working, we will compare weight changes prescribed by recirculation with weight changes prescribed by backpropagation in a similar network.\n",
    "\n",
    "For doing this, I will use Tensorflow to make a NN similar to the one we used and monitor the weight changes and compare them to weight changes caused by recirculation."
   ],
   "metadata": {
    "collapsed": false,
    "pycharm": {
     "name": "#%% md\n"
    }
   }
  },
  {
   "cell_type": "code",
   "execution_count": 17,
   "outputs": [],
   "source": [
    "nn_recirculation = keras.Sequential()\n",
    "nn_recirculation.add(layers.Input(shape=(parameters['input_len'], )))\n",
    "nn_recirculation.add(layers.Dense(parameters['hidden_units'], activation='sigmoid'))\n",
    "nn_recirculation.add(layers.Dense(parameters['input_len'], activation='sigmoid'))"
   ],
   "metadata": {
    "collapsed": false,
    "pycharm": {
     "name": "#%%\n"
    }
   }
  },
  {
   "cell_type": "code",
   "execution_count": 18,
   "outputs": [
    {
     "name": "stdout",
     "output_type": "stream",
     "text": [
      "Model: \"sequential\"\n",
      "_________________________________________________________________\n",
      " Layer (type)                Output Shape              Param #   \n",
      "=================================================================\n",
      " dense (Dense)               (None, 2)                 10        \n",
      "                                                                 \n",
      " dense_1 (Dense)             (None, 4)                 12        \n",
      "                                                                 \n",
      "=================================================================\n",
      "Total params: 22\n",
      "Trainable params: 22\n",
      "Non-trainable params: 0\n",
      "_________________________________________________________________\n"
     ]
    }
   ],
   "source": [
    "nn_recirculation.summary()"
   ],
   "metadata": {
    "collapsed": false,
    "pycharm": {
     "name": "#%%\n"
    }
   }
  },
  {
   "cell_type": "markdown",
   "source": [
    "Setting weights that we used for training the recirculation model."
   ],
   "metadata": {
    "collapsed": false,
    "pycharm": {
     "name": "#%% md\n"
    }
   }
  },
  {
   "cell_type": "code",
   "execution_count": 19,
   "outputs": [],
   "source": [
    "initial_weights = history['weights'][0]\n",
    "for i, layer in enumerate(nn_recirculation.layers):\n",
    "    layer.set_weights([initial_weights[i][:-1], initial_weights[i][-1]])"
   ],
   "metadata": {
    "collapsed": false,
    "pycharm": {
     "name": "#%%\n"
    }
   }
  },
  {
   "cell_type": "markdown",
   "source": [
    "Check if weights are correctly copied."
   ],
   "metadata": {
    "collapsed": false,
    "pycharm": {
     "name": "#%% md\n"
    }
   }
  },
  {
   "cell_type": "code",
   "execution_count": 20,
   "outputs": [
    {
     "name": "stdout",
     "output_type": "stream",
     "text": [
      "layer 1th weight difference: 4.213274107378595e-08\n",
      "layer 2th weight difference: 8.10423076424982e-08\n"
     ]
    }
   ],
   "source": [
    "for i, layer in enumerate(nn_recirculation.layers):\n",
    "    layer_weights = layer.get_weights()\n",
    "    layer_weights[1] = layer_weights[1].reshape(1, len(layer_weights[1]))\n",
    "    layer_weights = np.concatenate(layer_weights)\n",
    "    print(f'layer {i+1}th weight difference: {np.sum(np.abs(layer_weights - initial_weights[i]))}')"
   ],
   "metadata": {
    "collapsed": false,
    "pycharm": {
     "name": "#%%\n"
    }
   }
  },
  {
   "cell_type": "markdown",
   "source": [
    "Now lets train this new network and save the weights through the training process. Setting similar parameters as Recirculation."
   ],
   "metadata": {
    "collapsed": false,
    "pycharm": {
     "name": "#%% md\n"
    }
   }
  },
  {
   "cell_type": "code",
   "execution_count": 21,
   "outputs": [],
   "source": [
    "opt = optimizers.SGD(learning_rate=20)\n",
    "nn_recirculation.compile(optimizer=opt, loss='mse')"
   ],
   "metadata": {
    "collapsed": false,
    "pycharm": {
     "name": "#%%\n"
    }
   }
  },
  {
   "cell_type": "code",
   "execution_count": 22,
   "outputs": [
    {
     "name": "stdout",
     "output_type": "stream",
     "text": [
      "Epoch 1/100\n",
      "1/1 [==============================] - 0s 139ms/step - loss: 0.3022\n",
      "Epoch 2/100\n",
      "1/1 [==============================] - 0s 1ms/step - loss: 0.1874\n",
      "Epoch 3/100\n",
      "1/1 [==============================] - 0s 2ms/step - loss: 0.1863\n",
      "Epoch 4/100\n",
      "1/1 [==============================] - 0s 2ms/step - loss: 0.1859\n",
      "Epoch 5/100\n",
      "1/1 [==============================] - 0s 2ms/step - loss: 0.1856\n",
      "Epoch 6/100\n",
      "1/1 [==============================] - 0s 2ms/step - loss: 0.1852\n",
      "Epoch 7/100\n",
      "1/1 [==============================] - 0s 2ms/step - loss: 0.1847\n",
      "Epoch 8/100\n",
      "1/1 [==============================] - 0s 2ms/step - loss: 0.1842\n",
      "Epoch 9/100\n",
      "1/1 [==============================] - 0s 2ms/step - loss: 0.1835\n",
      "Epoch 10/100\n",
      "1/1 [==============================] - 0s 2ms/step - loss: 0.1828\n",
      "Epoch 11/100\n",
      "1/1 [==============================] - 0s 2ms/step - loss: 0.1819\n",
      "Epoch 12/100\n",
      "1/1 [==============================] - 0s 1ms/step - loss: 0.1808\n",
      "Epoch 13/100\n",
      "1/1 [==============================] - 0s 1ms/step - loss: 0.1796\n",
      "Epoch 14/100\n",
      "1/1 [==============================] - 0s 1ms/step - loss: 0.1781\n",
      "Epoch 15/100\n",
      "1/1 [==============================] - 0s 1ms/step - loss: 0.1763\n",
      "Epoch 16/100\n",
      "1/1 [==============================] - 0s 1ms/step - loss: 0.1743\n",
      "Epoch 17/100\n",
      "1/1 [==============================] - 0s 1ms/step - loss: 0.1719\n",
      "Epoch 18/100\n",
      "1/1 [==============================] - 0s 2ms/step - loss: 0.1691\n",
      "Epoch 19/100\n",
      "1/1 [==============================] - 0s 1ms/step - loss: 0.1659\n",
      "Epoch 20/100\n",
      "1/1 [==============================] - 0s 1ms/step - loss: 0.1624\n",
      "Epoch 21/100\n",
      "1/1 [==============================] - 0s 1ms/step - loss: 0.1585\n",
      "Epoch 22/100\n",
      "1/1 [==============================] - 0s 1ms/step - loss: 0.1543\n",
      "Epoch 23/100\n",
      "1/1 [==============================] - 0s 1ms/step - loss: 0.1499\n",
      "Epoch 24/100\n",
      "1/1 [==============================] - 0s 2ms/step - loss: 0.1454\n",
      "Epoch 25/100\n",
      "1/1 [==============================] - 0s 1ms/step - loss: 0.1408\n",
      "Epoch 26/100\n",
      "1/1 [==============================] - 0s 2ms/step - loss: 0.1362\n",
      "Epoch 27/100\n",
      "1/1 [==============================] - 0s 2ms/step - loss: 0.1316\n",
      "Epoch 28/100\n",
      "1/1 [==============================] - ETA: 0s - loss: 0.1271"
     ]
    },
    {
     "name": "stderr",
     "output_type": "stream",
     "text": [
      "2022-09-05 17:36:53.305836: W tensorflow/core/platform/profile_utils/cpu_utils.cc:128] Failed to get CPU frequency: 0 Hz\n"
     ]
    },
    {
     "name": "stdout",
     "output_type": "stream",
     "text": [
      "1/1 [==============================] - 0s 2ms/step - loss: 0.1271\n",
      "Epoch 29/100\n",
      "1/1 [==============================] - 0s 1ms/step - loss: 0.1228\n",
      "Epoch 30/100\n",
      "1/1 [==============================] - 0s 1ms/step - loss: 0.1186\n",
      "Epoch 31/100\n",
      "1/1 [==============================] - 0s 2ms/step - loss: 0.1145\n",
      "Epoch 32/100\n",
      "1/1 [==============================] - 0s 2ms/step - loss: 0.1107\n",
      "Epoch 33/100\n",
      "1/1 [==============================] - 0s 2ms/step - loss: 0.1071\n",
      "Epoch 34/100\n",
      "1/1 [==============================] - 0s 2ms/step - loss: 0.1037\n",
      "Epoch 35/100\n",
      "1/1 [==============================] - 0s 2ms/step - loss: 0.1005\n",
      "Epoch 36/100\n",
      "1/1 [==============================] - 0s 1ms/step - loss: 0.0976\n",
      "Epoch 37/100\n",
      "1/1 [==============================] - 0s 2ms/step - loss: 0.0948\n",
      "Epoch 38/100\n",
      "1/1 [==============================] - 0s 1ms/step - loss: 0.0923\n",
      "Epoch 39/100\n",
      "1/1 [==============================] - 0s 1ms/step - loss: 0.0900\n",
      "Epoch 40/100\n",
      "1/1 [==============================] - 0s 1ms/step - loss: 0.0878\n",
      "Epoch 41/100\n",
      "1/1 [==============================] - 0s 803us/step - loss: 0.0858\n",
      "Epoch 42/100\n",
      "1/1 [==============================] - 0s 993us/step - loss: 0.0839\n",
      "Epoch 43/100\n",
      "1/1 [==============================] - 0s 1ms/step - loss: 0.0822\n",
      "Epoch 44/100\n",
      "1/1 [==============================] - 0s 1ms/step - loss: 0.0806\n",
      "Epoch 45/100\n",
      "1/1 [==============================] - 0s 1ms/step - loss: 0.0791\n",
      "Epoch 46/100\n",
      "1/1 [==============================] - 0s 1ms/step - loss: 0.0777\n",
      "Epoch 47/100\n",
      "1/1 [==============================] - 0s 2ms/step - loss: 0.0764\n",
      "Epoch 48/100\n",
      "1/1 [==============================] - 0s 1ms/step - loss: 0.0751\n",
      "Epoch 49/100\n",
      "1/1 [==============================] - 0s 2ms/step - loss: 0.0739\n",
      "Epoch 50/100\n",
      "1/1 [==============================] - 0s 1ms/step - loss: 0.0728\n",
      "Epoch 51/100\n",
      "1/1 [==============================] - 0s 1ms/step - loss: 0.0718\n",
      "Epoch 52/100\n",
      "1/1 [==============================] - 0s 1ms/step - loss: 0.0708\n",
      "Epoch 53/100\n",
      "1/1 [==============================] - 0s 1ms/step - loss: 0.0698\n",
      "Epoch 54/100\n",
      "1/1 [==============================] - 0s 2ms/step - loss: 0.0689\n",
      "Epoch 55/100\n",
      "1/1 [==============================] - 0s 1ms/step - loss: 0.0680\n",
      "Epoch 56/100\n",
      "1/1 [==============================] - 0s 2ms/step - loss: 0.0672\n",
      "Epoch 57/100\n",
      "1/1 [==============================] - 0s 2ms/step - loss: 0.0664\n",
      "Epoch 58/100\n",
      "1/1 [==============================] - 0s 1ms/step - loss: 0.0656\n",
      "Epoch 59/100\n",
      "1/1 [==============================] - 0s 2ms/step - loss: 0.0648\n",
      "Epoch 60/100\n",
      "1/1 [==============================] - 0s 1ms/step - loss: 0.0640\n",
      "Epoch 61/100\n",
      "1/1 [==============================] - 0s 1ms/step - loss: 0.0633\n",
      "Epoch 62/100\n",
      "1/1 [==============================] - 0s 2ms/step - loss: 0.0626\n",
      "Epoch 63/100\n",
      "1/1 [==============================] - 0s 1ms/step - loss: 0.0619\n",
      "Epoch 64/100\n",
      "1/1 [==============================] - 0s 1ms/step - loss: 0.0612\n",
      "Epoch 65/100\n",
      "1/1 [==============================] - 0s 2ms/step - loss: 0.0605\n",
      "Epoch 66/100\n",
      "1/1 [==============================] - 0s 2ms/step - loss: 0.0598\n",
      "Epoch 67/100\n",
      "1/1 [==============================] - 0s 2ms/step - loss: 0.0591\n",
      "Epoch 68/100\n",
      "1/1 [==============================] - 0s 1ms/step - loss: 0.0584\n",
      "Epoch 69/100\n",
      "1/1 [==============================] - 0s 2ms/step - loss: 0.0577\n",
      "Epoch 70/100\n",
      "1/1 [==============================] - 0s 3ms/step - loss: 0.0570\n",
      "Epoch 71/100\n",
      "1/1 [==============================] - 0s 2ms/step - loss: 0.0563\n",
      "Epoch 72/100\n",
      "1/1 [==============================] - 0s 2ms/step - loss: 0.0555\n",
      "Epoch 73/100\n",
      "1/1 [==============================] - 0s 1ms/step - loss: 0.0548\n",
      "Epoch 74/100\n",
      "1/1 [==============================] - 0s 2ms/step - loss: 0.0540\n",
      "Epoch 75/100\n",
      "1/1 [==============================] - 0s 2ms/step - loss: 0.0532\n",
      "Epoch 76/100\n",
      "1/1 [==============================] - 0s 2ms/step - loss: 0.0525\n",
      "Epoch 77/100\n",
      "1/1 [==============================] - 0s 2ms/step - loss: 0.0516\n",
      "Epoch 78/100\n",
      "1/1 [==============================] - 0s 2ms/step - loss: 0.0508\n",
      "Epoch 79/100\n",
      "1/1 [==============================] - 0s 1ms/step - loss: 0.0500\n",
      "Epoch 80/100\n",
      "1/1 [==============================] - 0s 1ms/step - loss: 0.0491\n",
      "Epoch 81/100\n",
      "1/1 [==============================] - 0s 945us/step - loss: 0.0482\n",
      "Epoch 82/100\n",
      "1/1 [==============================] - 0s 2ms/step - loss: 0.0473\n",
      "Epoch 83/100\n",
      "1/1 [==============================] - 0s 1ms/step - loss: 0.0464\n",
      "Epoch 84/100\n",
      "1/1 [==============================] - 0s 2ms/step - loss: 0.0455\n",
      "Epoch 85/100\n",
      "1/1 [==============================] - 0s 2ms/step - loss: 0.0446\n",
      "Epoch 86/100\n",
      "1/1 [==============================] - 0s 2ms/step - loss: 0.0436\n",
      "Epoch 87/100\n",
      "1/1 [==============================] - 0s 2ms/step - loss: 0.0427\n",
      "Epoch 88/100\n",
      "1/1 [==============================] - 0s 2ms/step - loss: 0.0417\n",
      "Epoch 89/100\n",
      "1/1 [==============================] - 0s 2ms/step - loss: 0.0408\n",
      "Epoch 90/100\n",
      "1/1 [==============================] - 0s 2ms/step - loss: 0.0398\n",
      "Epoch 91/100\n",
      "1/1 [==============================] - 0s 2ms/step - loss: 0.0389\n",
      "Epoch 92/100\n",
      "1/1 [==============================] - 0s 2ms/step - loss: 0.0379\n",
      "Epoch 93/100\n",
      "1/1 [==============================] - 0s 3ms/step - loss: 0.0370\n",
      "Epoch 94/100\n",
      "1/1 [==============================] - 0s 2ms/step - loss: 0.0361\n",
      "Epoch 95/100\n",
      "1/1 [==============================] - 0s 2ms/step - loss: 0.0352\n",
      "Epoch 96/100\n",
      "1/1 [==============================] - 0s 2ms/step - loss: 0.0344\n",
      "Epoch 97/100\n",
      "1/1 [==============================] - 0s 1ms/step - loss: 0.0335\n",
      "Epoch 98/100\n",
      "1/1 [==============================] - 0s 2ms/step - loss: 0.0327\n",
      "Epoch 99/100\n",
      "1/1 [==============================] - 0s 964us/step - loss: 0.0319\n",
      "Epoch 100/100\n",
      "1/1 [==============================] - 0s 1ms/step - loss: 0.0312\n"
     ]
    }
   ],
   "source": [
    "nn_history = nn_recirculation.fit(x, x, batch_size=4, epochs=100, )"
   ],
   "metadata": {
    "collapsed": false,
    "pycharm": {
     "name": "#%%\n"
    }
   }
  },
  {
   "cell_type": "code",
   "execution_count": 23,
   "outputs": [
    {
     "data": {
      "text/plain": "[<matplotlib.lines.Line2D at 0x15f9f62b0>]"
     },
     "execution_count": 23,
     "metadata": {},
     "output_type": "execute_result"
    },
    {
     "data": {
      "text/plain": "<Figure size 640x480 with 1 Axes>",
      "image/png": "[encoded data removed]"
     },
     "metadata": {},
     "output_type": "display_data"
    }
   ],
   "source": [
    "plt.plot(np.arange(100), nn_history.history['loss'])"
   ],
   "metadata": {
    "collapsed": false,
    "pycharm": {
     "name": "#%%\n"
    }
   }
  },
  {
   "cell_type": "markdown",
   "source": [
    "Here we can see the prediction results of our NN model. It has higher loss after 100 epochs; however, it can probably get better results when trained for longer."
   ],
   "metadata": {
    "collapsed": false,
    "pycharm": {
     "name": "#%% md\n"
    }
   }
  },
  {
   "cell_type": "code",
   "execution_count": 24,
   "outputs": [
    {
     "name": "stdout",
     "output_type": "stream",
     "text": [
      "1/1 [==============================] - 0s 32ms/step\n"
     ]
    },
    {
     "data": {
      "text/plain": "array([[0.7864696 , 0.17917791, 0.00310778, 0.1361472 ],\n       [0.25153244, 0.6583766 , 0.18347415, 0.01568737],\n       [0.01802275, 0.24480022, 0.7600343 , 0.13644776],\n       [0.05932183, 0.01412111, 0.09958534, 0.83553696]], dtype=float32)"
     },
     "execution_count": 24,
     "metadata": {},
     "output_type": "execute_result"
    }
   ],
   "source": [
    "pred = nn_recirculation.predict(x)\n",
    "pred"
   ],
   "metadata": {
    "collapsed": false,
    "pycharm": {
     "name": "#%%\n"
    }
   }
  },
  {
   "cell_type": "code",
   "execution_count": 25,
   "outputs": [
    {
     "data": {
      "text/plain": "array([[1., 0., 0., 0.],\n       [0., 1., 0., 0.],\n       [0., 0., 1., 0.],\n       [0., 0., 0., 1.]], dtype=float32)"
     },
     "execution_count": 25,
     "metadata": {},
     "output_type": "execute_result"
    }
   ],
   "source": [
    "classes = np.zeros_like(pred)\n",
    "classes[np.arange(len(classes)), pred.argmax(axis=1)] = 1\n",
    "classes"
   ],
   "metadata": {
    "collapsed": false,
    "pycharm": {
     "name": "#%%\n"
    }
   }
  },
  {
   "cell_type": "markdown",
   "source": [
    "Now lets compare the results.\n",
    "\n",
    "First compare training error."
   ],
   "metadata": {
    "collapsed": false,
    "pycharm": {
     "name": "#%% md\n"
    }
   }
  },
  {
   "cell_type": "code",
   "execution_count": 29,
   "outputs": [
    {
     "data": {
      "text/plain": "<matplotlib.legend.Legend at 0x15fd5fc40>"
     },
     "execution_count": 29,
     "metadata": {},
     "output_type": "execute_result"
    },
    {
     "data": {
      "text/plain": "<Figure size 640x480 with 1 Axes>",
      "image/png": "[encoded data removed]"
     },
     "metadata": {},
     "output_type": "display_data"
    }
   ],
   "source": [
    "plt.plot(np.arange(100), history['error'], label='recirculation error')\n",
    "plt.plot(np.arange(100), nn_history.history['loss'], label='nn error')\n",
    "plt.legend()"
   ],
   "metadata": {
    "collapsed": false,
    "pycharm": {
     "name": "#%%\n"
    }
   }
  },
  {
   "cell_type": "code",
   "execution_count": null,
   "outputs": [],
   "source": [],
   "metadata": {
    "collapsed": false,
    "pycharm": {
     "name": "#%%\n"
    }
   }
  }
 ],
 "metadata": {
  "kernelspec": {
   "display_name": "Python 3 (ipykernel)",
   "language": "python",
   "name": "python3"
  },
  "language_info": {
   "codemirror_mode": {
    "name": "ipython",
    "version": 3
   },
   "file_extension": ".py",
   "mimetype": "text/x-python",
   "name": "python",
   "nbconvert_exporter": "python",
   "pygments_lexer": "ipython3",
   "version": "3.9.13"
  }
 },
 "nbformat": 4,
 "nbformat_minor": 1
}