{
 "cells": [
  {
   "cell_type": "markdown",
   "source": [
    "# Learning Representations by Recirculation"
   ],
   "metadata": {
    "collapsed": false,
    "pycharm": {
     "name": "#%% md\n"
    }
   }
  },
  {
   "cell_type": "code",
   "execution_count": 1,
   "metadata": {
    "pycharm": {
     "name": "#%%\n"
    }
   },
   "outputs": [],
   "source": [
    "from typing import Union\n",
    "import numpy as np\n",
    "import matplotlib.pyplot as plt\n",
    "import seaborn as sns"
   ]
  },
  {
   "cell_type": "code",
   "execution_count": 2,
   "metadata": {
    "pycharm": {
     "name": "#%%\n"
    }
   },
   "outputs": [],
   "source": [
    "np.random.seed(0)"
   ]
  },
  {
   "cell_type": "markdown",
   "source": [
    "## Recirculation Implementation"
   ],
   "metadata": {
    "collapsed": false,
    "pycharm": {
     "name": "#%% md\n"
    }
   }
  },
  {
   "cell_type": "markdown",
   "source": [
    "### Activation Functions\n",
    "In the paper the only activation function described is the logistic function. They said that other smooth monotonic functions will work too. Here I implemented the logistic function, and also other smooth monotonic functions.\n",
    "* Logistic:\n",
    "$$\n",
    "    f(x) = \\frac{1}{1 + e^{-x}}\n",
    "$$\n",
    "* Linear:$$ f(x) = x $$\n",
    "* Tanh:\n",
    "$$\n",
    "    f(x) = \\frac{e^{2x} - 1}{e^{2x} + 1}\n",
    "$$\n",
    "* Rectified Linear Unit (ReLU): $$ f(x) = x^+ = max(0, x) $$\n",
    "* Leaky Rectified Linear Unit (Leak ReLU):\n",
    "$$\n",
    "f(x)=\n",
    "    \\begin{cases}\n",
    "    x  &\\quad \\text{if } x>0\\\\\n",
    "    ax & \\quad \\text{if } x<0\n",
    "    \\end{cases}\n",
    "$$"
   ],
   "metadata": {
    "collapsed": false,
    "pycharm": {
     "name": "#%% md\n"
    }
   }
  },
  {
   "cell_type": "code",
   "execution_count": 3,
   "metadata": {
    "pycharm": {
     "name": "#%%\n"
    }
   },
   "outputs": [],
   "source": [
    "def logistic(x: np.ndarray):\n",
    "    return 1 / (1 + np.exp(-x))\n",
    "\n",
    "\n",
    "def linear(x: np.ndarray):\n",
    "    return x\n",
    "\n",
    "\n",
    "def tanh(x: np.ndarray):\n",
    "    return (np.exp(2 * x) - 1) / (np.exp(2 * x) + 1)\n",
    "\n",
    "\n",
    "def relu(x: np.ndarray):\n",
    "    return np.maximum(x, 0)\n",
    "\n",
    "\n",
    "def leaky_relu(x: np.ndarray, a: float = 0.01):\n",
    "    return np.where(x > 0, x, x * a)\n"
   ]
  },
  {
   "cell_type": "markdown",
   "source": [
    "### Weight Initializers\n",
    "In the paper, the weights are selected using a uniform distribution between $-0.5$ and $0.5$."
   ],
   "metadata": {
    "collapsed": false,
    "pycharm": {
     "name": "#%% md\n"
    }
   }
  },
  {
   "cell_type": "code",
   "execution_count": 4,
   "metadata": {
    "pycharm": {
     "name": "#%%\n"
    }
   },
   "outputs": [],
   "source": [
    "def uniform_initializer(low, high, shape):\n",
    "    return np.random.uniform(low, high, shape)"
   ]
  },
  {
   "cell_type": "markdown",
   "source": [
    "### Error Metrics\n",
    "Metric used in the paper is squared reconstruction error.\n",
    "$$ E = \\frac{1}{2}\\sum_{\\substack{k}}[y_k(2)-y_k(0)]^2 $$"
   ],
   "metadata": {
    "collapsed": false,
    "pycharm": {
     "name": "#%% md\n"
    }
   }
  },
  {
   "cell_type": "code",
   "execution_count": 5,
   "metadata": {
    "pycharm": {
     "name": "#%%\n"
    }
   },
   "outputs": [],
   "source": [
    "def squared_reconstruction_error(y1, y2):\n",
    "    return 1 / 2 * np.sum((y1 - y2) ** 2)"
   ]
  },
  {
   "cell_type": "markdown",
   "source": [
    "### Util Functions\n",
    "In the paper, each unit has a threshold term which is eliminated by adding an extra input to the unit with its activity fixed at 1. The `add_bias` function does that."
   ],
   "metadata": {
    "collapsed": false,
    "pycharm": {
     "name": "#%% md\n"
    }
   }
  },
  {
   "cell_type": "code",
   "execution_count": 6,
   "metadata": {
    "pycharm": {
     "name": "#%%\n"
    }
   },
   "outputs": [],
   "source": [
    "def add_bias(x):\n",
    "    shape = list(x.shape)\n",
    "    shape[-1] = 1\n",
    "    bias = np.ones(shape)\n",
    "    return np.hstack((x, bias))"
   ]
  },
  {
   "cell_type": "markdown",
   "source": [
    "## Recirculation Algorithm\n",
    "Here I implemented the Recirculation algorithm in the `Recirculation` class.\n",
    "\n",
    "Now I will give a brief description on the algorithm.\n",
    "\n",
    "Recirculation uses a Neural Network; however, there are some differences between recirculation and a simple Neural Network. Recirculation is used for encoding it's input and learn codes in the hidden unit. It's output should be the same as the input, however this isn't a must in a simple neural network. The other difference between Recirculation and a simple NN is that Recirculation doesn't use the backpropagation.\n",
    "\n",
    "**Learning process in Recirculation**\n",
    "\n",
    "The forward pass in Recirculation consists of 2 phases: first and second pass. The first pass is similar to the forward pass in a NN. Each layers input is $x_j$ and its output is $y_j$:\n",
    "$$ x_j = \\sum_{\\substack{i}}y_i w_{ji} - \\theta_j $$\n",
    "$$ y_j = \\sigma(x_j) $$\n",
    "where $x_j$ is the input of the unit, $y_i$ is output of previous unit, $w_{ji}$ is the weight connecting previous unit to this one, $\\theta_j$ is the bias (as said, this bias is removed by adding an extra input to the unit), and $\\sigma$ is the units' activation function.\n",
    "\n",
    "In the second pass, an average between the original input and the reconstructed output is sent through the network. This is computed by calculating a weighted average between the 2 values.\n",
    "$$ y_i(2) = \\lambda y_i(0) + (1 - \\lambda) x_i(2) $$\n",
    "This images shows these passes.\n",
    "\n",
    "![image](images/recirculation_passes.png)\n",
    "\n",
    "After this the weights are updated. The difference between the initial input and the input in the second pass are the derivatives that are used to update the weights. Here is how it is computed.\n",
    "$$ \\Delta w_{ij} = \\epsilon y_j(1)[y_i(0)-y_i(2)] $$\n",
    "$$ \\Delta w_{ji} = \\epsilon y_i(2)[y_j(1)-y_j(3)] $$\n",
    "Where the first one is for the weight connecting the hidden units to the output units and the second one is for the weights connecting the input unit to the hidden units.\n"
   ],
   "metadata": {
    "collapsed": false,
    "pycharm": {
     "name": "#%% md\n"
    }
   }
  },
  {
   "cell_type": "code",
   "execution_count": 7,
   "metadata": {
    "pycharm": {
     "name": "#%%\n"
    }
   },
   "outputs": [],
   "source": [
    "class Recirculation:\n",
    "    ACTIVATIONS = {\n",
    "        'logistic': logistic,\n",
    "        'linear': linear,\n",
    "        'tanh': tanh,\n",
    "        'relu': relu,\n",
    "        'leaky_relu': leaky_relu,\n",
    "    }\n",
    "\n",
    "    INITIALIZERS = {\n",
    "        'uniform': uniform_initializer,\n",
    "    }\n",
    "\n",
    "    def __init__(self, input_len: int, hidden_units: Union[int, list], regression_rate: float, learning_rate: float,\n",
    "                 activation_function: str, weight_initializer: str, low_weight_range: float = -0.5,\n",
    "                 high_weight_range: float = 0.5):\n",
    "        if type(hidden_units) is int:\n",
    "            hidden_units = [hidden_units]\n",
    "\n",
    "        self.activation_function = self.ACTIVATIONS[activation_function]\n",
    "        self.weight_initializer = self.INITIALIZERS[weight_initializer]\n",
    "        self.regression_rate = regression_rate\n",
    "        self.learning_rate = learning_rate\n",
    "\n",
    "        self.layer_shapes = [input_len] * 2\n",
    "        for unit in hidden_units:\n",
    "            self.layer_shapes.insert(-1, unit)\n",
    "\n",
    "        self.layer_count = len(self.layer_shapes)\n",
    "\n",
    "        self.weights = []\n",
    "        for i in range(self.layer_count - 1):\n",
    "            self.weights.append(\n",
    "                self.weight_initializer(\n",
    "                    low_weight_range, high_weight_range,\n",
    "                    # adding one to the first shape is because of the bias\n",
    "                    (self.layer_shapes[i] + 1, self.layer_shapes[i + 1])\n",
    "                )\n",
    "            )\n",
    "\n",
    "    def fit(self, x: np.ndarray, epoch: int = 100, loging: str = 'low') -> dict:\n",
    "        if loging not in ['low', 'high']:\n",
    "            raise ValueError('Incorrect loging value. It can be either low or high.')\n",
    "\n",
    "        history = {\n",
    "            'error': [],\n",
    "        }\n",
    "        if loging == 'high':\n",
    "            history['weights'] = [self.weights]\n",
    "            history['prediction_history'] = [self.predict(x)]\n",
    "            history['predicted_classes_history'] = [self.predict_class(x)]\n",
    "\n",
    "        for _ in range(epoch):\n",
    "            layer_outputs = [x]\n",
    "            # first pass\n",
    "            # calculate hidden layer outputs (based on equation 1, 2)\n",
    "            for i in range(self.layer_count - 2):\n",
    "                layer_outputs.append(\n",
    "                    self.activation_function(\n",
    "                        add_bias(layer_outputs[-1]) @ self.weights[i]\n",
    "                    )\n",
    "                )\n",
    "            # calculate output with regression (based on equation 5)\n",
    "            layer_outputs.append(\n",
    "                self.regression_rate * layer_outputs[0] + (1 - self.regression_rate) *\n",
    "                self.activation_function(\n",
    "                    add_bias(layer_outputs[-1]) @ self.weights[-1]\n",
    "                )\n",
    "            )\n",
    "            # note: the above statement can be inside the for loop below but this is more readable\n",
    "\n",
    "            # second pass\n",
    "            # calculate hidden layer outputs (based on equation 6)\n",
    "            for i in range(1, self.layer_count - 1):\n",
    "                layer_outputs.append(\n",
    "                    self.regression_rate * layer_outputs[i] + (1 - self.regression_rate) *\n",
    "                    self.activation_function(\n",
    "                        add_bias(layer_outputs[-1]) @ self.weights[i - 1]\n",
    "                    )\n",
    "                )\n",
    "\n",
    "            # compute reconstruction error\n",
    "            error = squared_reconstruction_error(layer_outputs[0], layer_outputs[self.layer_count - 1])\n",
    "\n",
    "            # updating weights (based on equations 3, 4)\n",
    "            for i in range(self.layer_count - 1):\n",
    "                delta_w = self.learning_rate * add_bias(layer_outputs[i + 1]).T @ (\n",
    "                        layer_outputs[i] - layer_outputs[i + 2])\n",
    "                self.weights[len(self.weights) - 1 - i] += delta_w\n",
    "\n",
    "            # update history\n",
    "            history['error'].append(error)\n",
    "            if loging == 'high':\n",
    "                history['weights'].append(self.weights)\n",
    "                history['prediction_history'].append(self.predict(x))\n",
    "                history['predicted_classes_history'].append(self.predict_class(x))\n",
    "\n",
    "        return history\n",
    "\n",
    "    def predict(self, x: np.ndarray) -> np.ndarray:\n",
    "        layer_output = [x]\n",
    "        for i in range(self.layer_count - 1):\n",
    "            layer_output.append(\n",
    "                self.activation_function(\n",
    "                    add_bias(layer_output[-1]) @ self.weights[i]\n",
    "                )\n",
    "            )\n",
    "        return layer_output[-1]\n",
    "\n",
    "    def predict_class(self, x: np.ndarray) -> np.ndarray:\n",
    "        pred = self.predict(x)\n",
    "        classes = np.zeros_like(pred)\n",
    "        classes[np.arange(len(classes)), pred.argmax(axis=1)] = 1\n",
    "        return classes\n",
    "\n",
    "    def encode(self, x):\n",
    "        layer_output = [x]\n",
    "        for i in range(self.layer_count - 2):\n",
    "            layer_output.append(\n",
    "                self.activation_function(\n",
    "                    add_bias(layer_output[-1]) @ self.weights[i]\n",
    "                )\n",
    "            )\n",
    "        return layer_output[-1]\n"
   ]
  },
  {
   "cell_type": "markdown",
   "source": [
    "## Testing"
   ],
   "metadata": {
    "collapsed": false,
    "pycharm": {
     "name": "#%% md\n"
    }
   }
  },
  {
   "cell_type": "markdown",
   "source": [
    "### Parameters\n",
    "Here the parameters are set as they are described in the paper. Our input is a $4*4$ matrix so input length is 4. $\\epsilon$(learning rate) is set to 20 and $\\lambda$(regression rate) is set to 0.75. We have one hidden layer with 2 units. Weights are selected from a uniform distribution between $-0.5, 0.5$. Activation function is the logistic function.\n",
    "\n",
    "This is the structure of the network.\n",
    "\n",
    "![image](images/nn_structure.png)"
   ],
   "metadata": {
    "collapsed": false,
    "pycharm": {
     "name": "#%% md\n"
    }
   }
  },
  {
   "cell_type": "code",
   "execution_count": 8,
   "metadata": {
    "pycharm": {
     "name": "#%%\n"
    }
   },
   "outputs": [],
   "source": [
    "parameters = {\n",
    "    'input_len': 4,\n",
    "    'hidden_units': 2,\n",
    "    'regression_rate': 0.75,\n",
    "    'learning_rate': 20,\n",
    "    'activation_function': 'logistic',\n",
    "    'weight_initializer': 'uniform',\n",
    "    'low_weight_range': -0.5,\n",
    "    'high_weight_range': 0.5,\n",
    "}"
   ]
  },
  {
   "cell_type": "code",
   "execution_count": 9,
   "metadata": {
    "pycharm": {
     "name": "#%%\n"
    }
   },
   "outputs": [],
   "source": [
    "r = Recirculation(**parameters)"
   ]
  },
  {
   "cell_type": "code",
   "execution_count": 10,
   "outputs": [],
   "source": [
    "x = np.array([\n",
    "    [1, 0, 0, 0],\n",
    "    [0, 1, 0, 0],\n",
    "    [0, 0, 1, 0],\n",
    "    [0, 0, 0, 1],\n",
    "])"
   ],
   "metadata": {
    "collapsed": false,
    "pycharm": {
     "name": "#%%\n"
    }
   }
  },
  {
   "cell_type": "code",
   "execution_count": 11,
   "metadata": {
    "pycharm": {
     "name": "#%%\n"
    }
   },
   "outputs": [],
   "source": [
    "history = r.fit(x, loging='high')"
   ]
  },
  {
   "cell_type": "markdown",
   "source": [
    "Plotting the error history to see the model's performance."
   ],
   "metadata": {
    "collapsed": false,
    "pycharm": {
     "name": "#%% md\n"
    }
   }
  },
  {
   "cell_type": "code",
   "execution_count": 12,
   "metadata": {
    "pycharm": {
     "name": "#%%\n"
    }
   },
   "outputs": [
    {
     "data": {
      "text/plain": "[<matplotlib.lines.Line2D at 0x14dd10760>]"
     },
     "execution_count": 12,
     "metadata": {},
     "output_type": "execute_result"
    },
    {
     "data": {
      "text/plain": "<Figure size 640x480 with 1 Axes>",
      "image/png": "[encoded data removed]"
     },
     "metadata": {},
     "output_type": "display_data"
    }
   ],
   "source": [
    "plt.plot(np.arange(100), np.array(history['error']))"
   ]
  },
  {
   "cell_type": "markdown",
   "source": [
    "### Predictions"
   ],
   "metadata": {
    "collapsed": false,
    "pycharm": {
     "name": "#%% md\n"
    }
   }
  },
  {
   "cell_type": "markdown",
   "metadata": {
    "pycharm": {
     "name": "#%% md\n"
    }
   },
   "source": [
    "Each row is the output relating to the same row in x defined above. As it is seen, the output is very close to the input. The cell that should be 1 is bigger than 0.98 and the cells that should be 0 are smaller than 1e-2."
   ]
  },
  {
   "cell_type": "code",
   "execution_count": 13,
   "metadata": {
    "pycharm": {
     "name": "#%%\n"
    }
   },
   "outputs": [
    {
     "data": {
      "text/plain": "array([[9.80088607e-01, 3.00000946e-03, 4.18966443e-07, 7.34606783e-03],\n       [1.43139650e-02, 9.93833971e-01, 5.64062353e-03, 3.96321582e-07],\n       [2.72210982e-06, 4.25881148e-03, 9.88556782e-01, 2.05122932e-03],\n       [1.23488574e-02, 2.58344699e-08, 4.39139643e-03, 9.90389260e-01]])"
     },
     "execution_count": 13,
     "metadata": {},
     "output_type": "execute_result"
    }
   ],
   "source": [
    "r.predict(x)"
   ]
  },
  {
   "cell_type": "markdown",
   "source": [
    "This function turns the biggest element to 1 and the others to 0. We can see it is the same as the input."
   ],
   "metadata": {
    "collapsed": false,
    "pycharm": {
     "name": "#%% md\n"
    }
   }
  },
  {
   "cell_type": "code",
   "execution_count": 14,
   "outputs": [
    {
     "data": {
      "text/plain": "array([[1., 0., 0., 0.],\n       [0., 1., 0., 0.],\n       [0., 0., 1., 0.],\n       [0., 0., 0., 1.]])"
     },
     "execution_count": 14,
     "metadata": {},
     "output_type": "execute_result"
    }
   ],
   "source": [
    "r.predict_class(x)"
   ],
   "metadata": {
    "collapsed": false,
    "pycharm": {
     "name": "#%%\n"
    }
   }
  },
  {
   "cell_type": "markdown",
   "source": [
    "This function returns the output of the final hidden layer, so we can see the representations for each input."
   ],
   "metadata": {
    "collapsed": false,
    "pycharm": {
     "name": "#%% md\n"
    }
   }
  },
  {
   "cell_type": "code",
   "execution_count": 15,
   "metadata": {
    "pycharm": {
     "name": "#%%\n"
    }
   },
   "outputs": [
    {
     "data": {
      "text/plain": "array([[0.9410874 , 0.87564743],\n       [0.90996569, 0.06073768],\n       [0.05522127, 0.09080284],\n       [0.06059903, 0.96532985]])"
     },
     "execution_count": 15,
     "metadata": {},
     "output_type": "execute_result"
    }
   ],
   "source": [
    "r.encode(x)"
   ]
  },
  {
   "cell_type": "markdown",
   "metadata": {
    "pycharm": {
     "name": "#%% md\n"
    }
   },
   "source": [
    "Let's do the test for 100 times to see average number of weight updates to get an error bellow 0.05. The paper tested the average for the error bellow 0.1 but looking at the error graph above, we see that the model achieves 0.1 error in the first few epochs but because of the high regression rate, it's not stable. However, it is more stable around 0.05 error."
   ]
  },
  {
   "cell_type": "code",
   "execution_count": 16,
   "metadata": {
    "pycharm": {
     "name": "#%%\n"
    }
   },
   "outputs": [
    {
     "name": "stdout",
     "output_type": "stream",
     "text": [
      "21.6\n"
     ]
    }
   ],
   "source": [
    "indexes = []\n",
    "for _ in range(100):\n",
    "    r = Recirculation(**parameters)\n",
    "    history = r.fit(x)\n",
    "    error_array = np.array(history['error'])\n",
    "    indexes.append(np.argmax(error_array < 0.05))\n",
    "print(np.average(indexes))"
   ]
  }
 ],
 "metadata": {
  "kernelspec": {
   "display_name": "Python 3 (ipykernel)",
   "language": "python",
   "name": "python3"
  },
  "language_info": {
   "codemirror_mode": {
    "name": "ipython",
    "version": 3
   },
   "file_extension": ".py",
   "mimetype": "text/x-python",
   "name": "python",
   "nbconvert_exporter": "python",
   "pygments_lexer": "ipython3",
   "version": "3.9.13"
  }
 },
 "nbformat": 4,
 "nbformat_minor": 1
}